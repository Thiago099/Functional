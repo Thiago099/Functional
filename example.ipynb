{
 "metadata": {
  "language_info": {
   "codemirror_mode": {
    "name": "ipython",
    "version": 3
   },
   "file_extension": ".py",
   "mimetype": "text/x-python",
   "name": "python",
   "nbconvert_exporter": "python",
   "pygments_lexer": "ipython3",
   "version": "3.9.1"
  },
  "orig_nbformat": 4,
  "kernelspec": {
   "name": "python3",
   "display_name": "Python 3.9.1 64-bit"
  },
  "interpreter": {
   "hash": "ac59ebe37160ed0dfa835113d9b8498d9f09ceb179beaac4002f036b9467c963"
  }
 },
 "nbformat": 4,
 "nbformat_minor": 2,
 "cells": [
  {
   "cell_type": "code",
   "execution_count": 1,
   "source": [
    "import sys\r\n",
    "sys.path.insert(1, 'bin')\r\n",
    "sys.path.insert(1, 'functional')\r\n",
    "\r\n",
    "from persistence import sql\r\n",
    "import functional as fn\r\n",
    "import color as c\r\n",
    "from sql import table"
   ],
   "outputs": [],
   "metadata": {}
  },
  {
   "cell_type": "markdown",
   "source": [
    "# Print all commands"
   ],
   "metadata": {}
  },
  {
   "cell_type": "code",
   "execution_count": null,
   "source": [
    "db = sql('functional')\r\n",
    "\r\n",
    "for i in db.query('SELECT * FROM command'):\r\n",
    "    print(c.blue + i['class'] + ':' + i['name'])\r\n",
    "    print(c.white + fn.build(i['class'], i['name']))\r\n",
    "\r\n",
    "db.close()"
   ],
   "outputs": [],
   "metadata": {}
  },
  {
   "cell_type": "markdown",
   "source": [
    "# Create command"
   ],
   "metadata": {}
  },
  {
   "cell_type": "code",
   "execution_count": 2,
   "source": [
    "fn.create_command('python','if','''if({{condition}}):\r\n",
    "  {{block}}''')"
   ],
   "outputs": [],
   "metadata": {}
  },
  {
   "cell_type": "markdown",
   "source": [
    "# Create command and add child commands\r\n",
    "\r\n",
    "(this command does not have valid sintax)"
   ],
   "metadata": {}
  },
  {
   "cell_type": "code",
   "execution_count": 15,
   "source": [
    "fn.create_command('debug', 'test')\r\n",
    "fn.set_child(('debug', 'test'),('python','if'),{'block':('select','from')})"
   ],
   "outputs": [],
   "metadata": {}
  },
  {
   "cell_type": "code",
   "execution_count": 6,
   "source": [
    "fn.create_command('sql', 'delete where')\r\n",
    "fn.set_child(('sql', 'delete where'),('sql','delete'))\r\n",
    "fn.set_child(('sql', 'delete where'),('sql','where'))\r\n"
   ],
   "outputs": [],
   "metadata": {}
  },
  {
   "cell_type": "markdown",
   "source": [
    "# Example"
   ],
   "metadata": {}
  },
  {
   "cell_type": "code",
   "execution_count": 3,
   "source": [
    "print(fn.build('python','if',{'condition':'true','block':'print(\"hello world\")\\nprint(\"line2\")'}))"
   ],
   "outputs": [
    {
     "output_type": "stream",
     "name": "stdout",
     "text": [
      "if(true):\n",
      "  print(\"hello world\")\n",
      "  print(\"line2\")\n"
     ]
    }
   ],
   "metadata": {}
  },
  {
   "cell_type": "markdown",
   "source": [
    "# Example2"
   ],
   "metadata": {}
  },
  {
   "cell_type": "code",
   "execution_count": 3,
   "source": [
    "pessoa = table(\r\n",
    "    'pessoa',\r\n",
    "{\r\n",
    "    'nome': 'VARCHAR(32)',\r\n",
    "    'sexo': 'CHAR(1)',\r\n",
    "    'idade': 'INT'\r\n",
    "})\r\n",
    "\r\n",
    "print(pessoa.create)\r\n",
    "print(pessoa.drop)\r\n",
    "print(pessoa.insert)\r\n",
    "print(pessoa.select)\r\n",
    "print(pessoa.update)\r\n",
    "print(pessoa.delete)"
   ],
   "outputs": [
    {
     "output_type": "stream",
     "name": "stdout",
     "text": [
      "CREATE TABLE \n",
      "  pessoa\n",
      "(\n",
      "  id INT NOT NULL AUTO_INCREMENT,\n",
      "  nome VARCHAR(32),\n",
      "  sexo CHAR(1),\n",
      "  idade INT,\n",
      "  PRIMARY KEY (id)\n",
      ");\n",
      "DROP TABLE pessoa;\n",
      "INSERT INTO\n",
      "  pessoa \n",
      "(\n",
      "  nome,\n",
      "  sexo,\n",
      "  idade\n",
      ")\n",
      "VALUES\n",
      "(\n",
      "  @Nome,\n",
      "  @Sexo,\n",
      "  @Idade\n",
      ");\n",
      "SELECT\n",
      "  id,\n",
      "  nome,\n",
      "  sexo,\n",
      "  idade\n",
      "FROM\n",
      "  pessoa;\n",
      "UPDATE\n",
      "  pessoa\n",
      "SET\n",
      " nome = @Nome,\n",
      " sexo = @Sexo,\n",
      " idade = @Idade\n",
      "WHERE\n",
      "  id = @Id;\n",
      "DELETE FROM\n",
      "  pessoa\n",
      "WHERE\n",
      "  id = @Id;\n"
     ]
    }
   ],
   "metadata": {}
  }
 ]
}