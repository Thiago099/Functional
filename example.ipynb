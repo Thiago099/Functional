{
 "metadata": {
  "language_info": {
   "codemirror_mode": {
    "name": "ipython",
    "version": 3
   },
   "file_extension": ".py",
   "mimetype": "text/x-python",
   "name": "python",
   "nbconvert_exporter": "python",
   "pygments_lexer": "ipython3",
   "version": "3.9.1"
  },
  "orig_nbformat": 4,
  "kernelspec": {
   "name": "python3",
   "display_name": "Python 3.9.1 64-bit"
  },
  "interpreter": {
   "hash": "ac59ebe37160ed0dfa835113d9b8498d9f09ceb179beaac4002f036b9467c963"
  }
 },
 "nbformat": 4,
 "nbformat_minor": 2,
 "cells": [
  {
   "cell_type": "code",
   "execution_count": 1,
   "source": [
    "import sys\r\n",
    "sys.path.insert(1, 'bin')\r\n",
    "\r\n",
    "from persistence import sql\r\n",
    "import functional as fn\r\n",
    "import color as c"
   ],
   "outputs": [],
   "metadata": {}
  },
  {
   "cell_type": "markdown",
   "source": [
    "# Print all commands"
   ],
   "metadata": {}
  },
  {
   "cell_type": "code",
   "execution_count": null,
   "source": [
    "db = sql('functional')\r\n",
    "\r\n",
    "for i in db.query('SELECT * FROM command'):\r\n",
    "    print(c.blue + i['class'] + ':' + i['name'])\r\n",
    "    print(c.white + fn.build(i['class'], i['name']))\r\n",
    "\r\n",
    "db.close()"
   ],
   "outputs": [],
   "metadata": {}
  },
  {
   "cell_type": "markdown",
   "source": [
    "# Create command\r\n",
    "\r\n",
    "if a command adds a new parameter it must be specified"
   ],
   "metadata": {}
  },
  {
   "cell_type": "code",
   "execution_count": null,
   "source": [
    "fn.create_command('python','if','''if({{condition}}):\r\n",
    "  {{block}}''',['condition', 'block'])"
   ],
   "outputs": [],
   "metadata": {}
  },
  {
   "cell_type": "markdown",
   "source": [
    "# Create command and add child commands\r\n",
    "\r\n",
    "(this command does not have valid sintax)"
   ],
   "metadata": {}
  },
  {
   "cell_type": "code",
   "execution_count": 15,
   "source": [
    "fn.create_command('debug', 'test')\r\n",
    "fn.set_child(('debug', 'test'),('python','if'),{'block':('select','from')})"
   ],
   "outputs": [],
   "metadata": {}
  },
  {
   "cell_type": "markdown",
   "source": [
    "# Example"
   ],
   "metadata": {}
  },
  {
   "cell_type": "code",
   "execution_count": 3,
   "source": [
    "print(fn.build('python','if',{'condition':'true','block':'print(\"hello world\")\\nprint(\"line2\")'}))"
   ],
   "outputs": [
    {
     "output_type": "stream",
     "name": "stdout",
     "text": [
      "if(true):\n",
      "  print(\"hello world\")\n",
      "  print(\"line2\")\n"
     ]
    }
   ],
   "metadata": {}
  },
  {
   "cell_type": "markdown",
   "source": [
    "# Example2"
   ],
   "metadata": {}
  },
  {
   "cell_type": "code",
   "execution_count": 17,
   "source": [
    "def cat(a, b, separator = ' '):\r\n",
    "    return [a[i] + separator + b[i] for i in range(len(a) if len(a) < len(b) else len(b))]\r\n",
    "\r\n",
    "class table:\r\n",
    "    def __init__(self, table, field):\r\n",
    "        self.table = table\r\n",
    "        self.field = []\r\n",
    "        self.tipo = []\r\n",
    "\r\n",
    "        for i in field:\r\n",
    "            self.field.append(i)\r\n",
    "            self.tipo.append(field[i])\r\n",
    "            \r\n",
    "        self.value = []\r\n",
    "        for i in field:\r\n",
    "            self.value.append('@' + i.capitalize()) \r\n",
    "        \r\n",
    "        self.id = 'id' == self.field[0]\r\n",
    "\r\n",
    "    @property\r\n",
    "    def create(self):\r\n",
    "        return fn.build('sql', 'create', [\r\n",
    "            self.table,\r\n",
    "            cat(self.field, self.tipo)\r\n",
    "        ]) + ';\\n'\r\n",
    "    \r\n",
    "    @property\r\n",
    "    def insert(self):\r\n",
    "        return fn.build('sql', 'insert values', [\r\n",
    "            self.table,\r\n",
    "            self.field[1::] if self.id else self.field,\r\n",
    "            self.value[1::] if self.id else self.value\r\n",
    "        ]) + ';\\n'\r\n",
    "    \r\n",
    "    @property\r\n",
    "    def select(self):\r\n",
    "        return fn.build('sql', 'select from', [\r\n",
    "            self.field,\r\n",
    "            self.table\r\n",
    "        ]) + ';\\n'\r\n",
    "    \r\n",
    "    @property\r\n",
    "    def update(self, condition = None):\r\n",
    "        if(not self.id and not condition):\r\n",
    "            return c.red + 'condition required' + c.white\r\n",
    "        return fn.build('sql', 'update set where', [\r\n",
    "            self.table,\r\n",
    "            cat\r\n",
    "            (\r\n",
    "                self.field[1::] if self.id else self.field,\r\n",
    "                self.value[1::] if self.id else self.field,\r\n",
    "                ' = '\r\n",
    "            ),\r\n",
    "            cat\r\n",
    "            (\r\n",
    "                self.field[:1],\r\n",
    "                self.value[:1],\r\n",
    "                ' = '\r\n",
    "            ) if self.id else condition\r\n",
    "        ])+ ';\\n'\r\n",
    "\r\n",
    "\r\n",
    "pessoa = table(\r\n",
    "    'pessoa',\r\n",
    "{\r\n",
    "    'id': 'INT AUTO_INCREMENT',\r\n",
    "    'nome': 'VARCHAR(32)',\r\n",
    "    'sexo': 'CHAR(1)',\r\n",
    "    'idade': 'INT'\r\n",
    "})\r\n",
    "\r\n",
    "print(pessoa.create)\r\n",
    "print(pessoa.insert)\r\n",
    "print(pessoa.select)\r\n",
    "print(pessoa.update)\r\n",
    "\r\n"
   ],
   "outputs": [
    {
     "output_type": "stream",
     "name": "stdout",
     "text": [
      "CREATE TABLE \n",
      "  pessoa\n",
      "(\n",
      "  id INT AUTO_INCREMENT,\n",
      "  nome VARCHAR(32),\n",
      "  sexo CHAR(1),\n",
      "  idade INT\n",
      ");\n",
      "\n",
      "INSERT INTO\n",
      "  pessoa \n",
      "(\n",
      "  nome,\n",
      "  sexo,\n",
      "  idade\n",
      ")\n",
      "VALUES\n",
      "(\n",
      "  @Nome,\n",
      "  @Sexo,\n",
      "  @Idade\n",
      ");\n",
      "\n",
      "SELECT\n",
      "  id,\n",
      "  nome,\n",
      "  sexo,\n",
      "  idade\n",
      "FROM\n",
      "  pessoa;\n",
      "\n",
      "UPDATE\n",
      "  pessoa\n",
      "SET\n",
      " nome = @Nome,\n",
      " sexo = @Sexo,\n",
      " idade = @Idade\n",
      "WHERE\n",
      "  id = @Id;\n",
      "\n"
     ]
    }
   ],
   "metadata": {}
  }
 ]
}