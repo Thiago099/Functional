{
 "metadata": {
  "language_info": {
   "codemirror_mode": {
    "name": "ipython",
    "version": 3
   },
   "file_extension": ".py",
   "mimetype": "text/x-python",
   "name": "python",
   "nbconvert_exporter": "python",
   "pygments_lexer": "ipython3",
   "version": "3.9.1"
  },
  "orig_nbformat": 4,
  "kernelspec": {
   "name": "python3",
   "display_name": "Python 3.9.1 64-bit"
  },
  "interpreter": {
   "hash": "ac59ebe37160ed0dfa835113d9b8498d9f09ceb179beaac4002f036b9467c963"
  }
 },
 "nbformat": 4,
 "nbformat_minor": 2,
 "cells": [
  {
   "cell_type": "code",
   "execution_count": 2,
   "source": [
    "import sys\r\n",
    "sys.path.insert(1, 'bin')\r\n",
    "\r\n",
    "from persistence import sql\r\n",
    "import functional as fn\r\n",
    "import color as c"
   ],
   "outputs": [],
   "metadata": {}
  },
  {
   "cell_type": "markdown",
   "source": [
    "# Create command and add child"
   ],
   "metadata": {}
  },
  {
   "cell_type": "code",
   "execution_count": 15,
   "source": [
    "fn.create_command('debug', 'update set where')\r\n",
    "fn.set_child(('debug', 'update set where'),('python','if'),{'block':('select','from')})"
   ],
   "outputs": [],
   "metadata": {}
  },
  {
   "cell_type": "markdown",
   "source": [
    "# Print all commands"
   ],
   "metadata": {}
  },
  {
   "cell_type": "code",
   "execution_count": null,
   "source": [
    "db = sql('functional')\r\n",
    "\r\n",
    "for i in db.query('SELECT * FROM command'):\r\n",
    "    print(c.blue + i['class'] + ':' + i['name'])\r\n",
    "    print(c.white + fn.build(i['class'], i['name']))\r\n",
    "\r\n",
    "db.close()"
   ],
   "outputs": [],
   "metadata": {}
  },
  {
   "cell_type": "markdown",
   "source": [
    "# Create command"
   ],
   "metadata": {}
  },
  {
   "cell_type": "code",
   "execution_count": null,
   "source": [
    "fn.create_command('python','if','''if({{condition}}):\r\n",
    "  {{block}}''')"
   ],
   "outputs": [],
   "metadata": {}
  },
  {
   "cell_type": "code",
   "execution_count": 4,
   "source": [
    "print(fn.build('python','if',{'condition':'true','block':'print(\"hello world\")\\nprint'}))"
   ],
   "outputs": [
    {
     "output_type": "stream",
     "name": "stdout",
     "text": [
      "if(true):\n",
      "  print(\"hello world\")\n",
      "  print\n"
     ]
    }
   ],
   "metadata": {}
  },
  {
   "cell_type": "markdown",
   "source": [
    "# Example"
   ],
   "metadata": {}
  },
  {
   "cell_type": "code",
   "execution_count": 18,
   "source": [
    "obj = {\r\n",
    "    'table'   : 'pessoa',\r\n",
    "    'field'   : ['id','nome', 'sexo', 'idade'],\r\n",
    "    'type'    : ['INT AUTO_INCREMENT', 'VARCHAR(32)', 'CHAR(1)', 'INT'],\r\n",
    "    'value'   : [\"1\",\"'josh'\",\"'M'\",\"34\"]\r\n",
    "}\r\n",
    "\r\n",
    "def cat(a, b, separator = ' '):\r\n",
    "    return [a[i] + separator + b[i] for i in range(len(a))]\r\n",
    "\r\n",
    "print(fn.build('sql','create', [obj['table'],cat(obj['field'],obj['type'])]))\r\n",
    "print(fn.build('sql','insert values', [obj['table'],obj['field'][1::], obj['value'][1::]]))\r\n",
    "print(fn.build('sql','select from', [obj['field'],obj['table']]))\r\n",
    "print(fn.build('sql','update set where', [obj['table'], cat(obj['field'][1::], obj['value'][1::], ' = '), cat(obj['field'][:1], obj['value'][:1], ' = ')]))"
   ],
   "outputs": [
    {
     "output_type": "stream",
     "name": "stdout",
     "text": [
      "CREATE TABLE \n",
      "  pessoa\n",
      "(\n",
      "  id int,\n",
      "  nome varchar(32),\n",
      "  sexo char1(1),\n",
      "  idade int\n",
      ")\n",
      "INSERT INTO\n",
      "  pessoa \n",
      "(\n",
      "  nome,\n",
      "  sexo,\n",
      "  idade\n",
      ")\n",
      "VALUES\n",
      "(\n",
      "  'josh',\n",
      "  'M',\n",
      "  34\n",
      ")\n",
      "SELECT\n",
      "  id,\n",
      "  nome,\n",
      "  sexo,\n",
      "  idade\n",
      "FROM\n",
      "  pessoa\n",
      "UPDATE\n",
      "  pessoa\n",
      "SET\n",
      " nome = 'josh',\n",
      " sexo = 'M',\n",
      " idade = 34\n",
      "WHERE\n",
      "  id = 1\n"
     ]
    }
   ],
   "metadata": {}
  }
 ]
}