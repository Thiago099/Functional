{
 "metadata": {
  "language_info": {
   "codemirror_mode": {
    "name": "ipython",
    "version": 3
   },
   "file_extension": ".py",
   "mimetype": "text/x-python",
   "name": "python",
   "nbconvert_exporter": "python",
   "pygments_lexer": "ipython3",
   "version": "3.9.1"
  },
  "orig_nbformat": 4,
  "kernelspec": {
   "name": "python3",
   "display_name": "Python 3.9.1 64-bit"
  },
  "interpreter": {
   "hash": "ac59ebe37160ed0dfa835113d9b8498d9f09ceb179beaac4002f036b9467c963"
  }
 },
 "nbformat": 4,
 "nbformat_minor": 2,
 "cells": [
  {
   "cell_type": "code",
   "execution_count": 2,
   "source": [
    "import sys\r\n",
    "sys.path.insert(1, 'bin')\r\n",
    "\r\n",
    "from persistence import sql\r\n",
    "import functional as fn\r\n",
    "import color as c"
   ],
   "outputs": [],
   "metadata": {}
  },
  {
   "cell_type": "markdown",
   "source": [
    "# Print all commands"
   ],
   "metadata": {}
  },
  {
   "cell_type": "code",
   "execution_count": null,
   "source": [
    "db = sql('functional')\r\n",
    "\r\n",
    "for i in db.query('SELECT * FROM command'):\r\n",
    "    print(c.blue + i['class'] + ':' + i['name'])\r\n",
    "    print(c.white + fn.build(i['class'], i['name']))\r\n",
    "\r\n",
    "db.close()"
   ],
   "outputs": [],
   "metadata": {}
  },
  {
   "cell_type": "markdown",
   "source": [
    "# Create command\r\n",
    "\r\n",
    "if a command adds a new parameter it must be specified"
   ],
   "metadata": {}
  },
  {
   "cell_type": "code",
   "execution_count": null,
   "source": [
    "fn.create_command('python','if','''if({{condition}}):\r\n",
    "  {{block}}''',['condition', 'block'])"
   ],
   "outputs": [],
   "metadata": {}
  },
  {
   "cell_type": "markdown",
   "source": [
    "# Create command and add child commands\r\n",
    "\r\n",
    "(this command does not have valid sintax)"
   ],
   "metadata": {}
  },
  {
   "cell_type": "code",
   "execution_count": 15,
   "source": [
    "fn.create_command('debug', 'test')\r\n",
    "fn.set_child(('debug', 'test'),('python','if'),{'block':('select','from')})"
   ],
   "outputs": [],
   "metadata": {}
  },
  {
   "cell_type": "markdown",
   "source": [
    "# Example"
   ],
   "metadata": {}
  },
  {
   "cell_type": "code",
   "execution_count": 3,
   "source": [
    "print(fn.build('python','if',{'condition':'true','block':'print(\"hello world\")\\nprint(\"line2\")'}))"
   ],
   "outputs": [
    {
     "output_type": "stream",
     "name": "stdout",
     "text": [
      "if(true):\n",
      "  print(\"hello world\")\n",
      "  print(\"line2\")\n"
     ]
    }
   ],
   "metadata": {}
  },
  {
   "cell_type": "markdown",
   "source": [
    "# Example2"
   ],
   "metadata": {}
  },
  {
   "cell_type": "code",
   "execution_count": 11,
   "source": [
    "obj = {\r\n",
    "    'table'   : 'pessoa',\r\n",
    "    'field'   : [\r\n",
    "            'id',\r\n",
    "            'nome',\r\n",
    "            'sexo',\r\n",
    "            'idade'\r\n",
    "        ],\r\n",
    "    'type'    : [\r\n",
    "            'INT AUTO_INCREMENT',\r\n",
    "            'VARCHAR(32)',\r\n",
    "            'CHAR(1)',\r\n",
    "            'INT'\r\n",
    "        ]\r\n",
    "}\r\n",
    "\r\n",
    "obj['value'] = []\r\n",
    "for i in obj['field']:\r\n",
    "    obj['value'].append('@' + i.capitalize()) \r\n",
    "\r\n",
    "def cat(a, b, separator = ' '):\r\n",
    "    return [a[i] + separator + b[i] for i in range(len(a))]\r\n",
    "\r\n",
    "print(fn.build('sql','create', [\r\n",
    "    obj['table'],\r\n",
    "    cat(obj['field'], obj['type'])\r\n",
    "]) + ';\\n')\r\n",
    "\r\n",
    "print(fn.build('sql','insert values', [\r\n",
    "    obj['table'],\r\n",
    "    obj['field'][1::],\r\n",
    "    obj['value'][1::]\r\n",
    "]) + ';\\n')\r\n",
    "\r\n",
    "print(fn.build('sql','select from', [\r\n",
    "    obj['field'],\r\n",
    "    obj['table']\r\n",
    "]) + ';\\n')\r\n",
    "\r\n",
    "print(fn.build('sql','update set where', [\r\n",
    "    obj['table'],\r\n",
    "    cat(obj['field'][1::], obj['value'][1::], ' = '),\r\n",
    "    cat(obj['field'][:1], obj['value'][:1], ' = '\r\n",
    ")])+ ';\\n')"
   ],
   "outputs": [
    {
     "output_type": "stream",
     "name": "stdout",
     "text": [
      "CREATE TABLE \n",
      "  pessoa\n",
      "(\n",
      "  id INT AUTO_INCREMENT,\n",
      "  nome VARCHAR(32),\n",
      "  sexo CHAR(1),\n",
      "  idade INT\n",
      ");\n",
      "\n",
      "INSERT INTO\n",
      "  pessoa \n",
      "(\n",
      "  nome,\n",
      "  sexo,\n",
      "  idade\n",
      ")\n",
      "VALUES\n",
      "(\n",
      "  Nome,\n",
      "  Sexo,\n",
      "  Idade\n",
      ");\n",
      "\n",
      "SELECT\n",
      "  id,\n",
      "  nome,\n",
      "  sexo,\n",
      "  idade\n",
      "FROM\n",
      "  pessoa;\n",
      "\n",
      "UPDATE\n",
      "  pessoa\n",
      "SET\n",
      " nome = Nome,\n",
      " sexo = Sexo,\n",
      " idade = Idade\n",
      "WHERE\n",
      "  id = Id;\n",
      "\n"
     ]
    }
   ],
   "metadata": {}
  }
 ]
}