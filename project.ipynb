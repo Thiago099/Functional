{
 "metadata": {
  "language_info": {
   "codemirror_mode": {
    "name": "ipython",
    "version": 3
   },
   "file_extension": ".py",
   "mimetype": "text/x-python",
   "name": "python",
   "nbconvert_exporter": "python",
   "pygments_lexer": "ipython3",
   "version": "3.9.1"
  },
  "orig_nbformat": 4,
  "kernelspec": {
   "name": "python3",
   "display_name": "Python 3.9.1 64-bit"
  },
  "interpreter": {
   "hash": "ac59ebe37160ed0dfa835113d9b8498d9f09ceb179beaac4002f036b9467c963"
  }
 },
 "nbformat": 4,
 "nbformat_minor": 2,
 "cells": [
  {
   "cell_type": "code",
   "execution_count": 1,
   "source": [
    "import sys\r\n",
    "# insert at 1, 0 is the script path (or '' in REPL)\r\n",
    "sys.path.insert(1, 'bin')\r\n",
    "\r\n",
    "from persistence import sql\r\n",
    "import functional as fn\r\n",
    "import color as c\r\n",
    "\r\n",
    "print(fn.build('python','length', ['name']))\r\n",
    "print(fn.build('programming','call',['len','name']))\r\n",
    "print(fn.build('sql','left join'))\r\n",
    "\r\n"
   ],
   "outputs": [
    {
     "output_type": "stream",
     "name": "stdout",
     "text": [
      "len(name)\n",
      "\n",
      "LEFT JOIN\n",
      "  {{table}} ON {{table}}.{{identifier}} = {{subject}}.{{alias}}\n",
      "\n"
     ]
    }
   ],
   "metadata": {}
  },
  {
   "cell_type": "code",
   "execution_count": 9,
   "source": [
    "fn.create_command('dotnet', 'length','',['messurable'])\r\n",
    "fn.set_child(('python', 'length'), ('programming', 'call'),{'function': 'len','parameter':'{{messurable}}'})"
   ],
   "outputs": [],
   "metadata": {}
  },
  {
   "cell_type": "code",
   "execution_count": null,
   "source": [
    "fn.create_command('myapp', 'conditional query')\r\n",
    "fn.set_child(('myapp', 'conditional query'),('python','if'),{'block':('myapp','select person')})"
   ],
   "outputs": [],
   "metadata": {}
  },
  {
   "cell_type": "code",
   "execution_count": null,
   "source": [
    "db = sql('functional')\r\n",
    "\r\n",
    "for i in db.query('SELECT * FROM command'):\r\n",
    "    print(c.blue + i['class'] + ':' + i['name'])\r\n",
    "    print(c.white + fn.build(i['class'], i['name']))\r\n",
    "\r\n",
    "db.close()"
   ],
   "outputs": [],
   "metadata": {}
  },
  {
   "cell_type": "code",
   "execution_count": 2,
   "source": [
    "print(fn.build('sql', 'select from', \r\n",
    "{\r\n",
    "    'field': '*',\r\n",
    "    'table': 'usuario'\r\n",
    "})+\r\n",
    "fn.build('sql','left join',{\r\n",
    "    'table': 'pessoa',\r\n",
    "    'identifier': 'id',\r\n",
    "    'subject': 'usuario',\r\n",
    "    'alias': 'id_pessoa'\r\n",
    "}))"
   ],
   "outputs": [
    {
     "output_type": "stream",
     "name": "stdout",
     "text": [
      "SELECT\n",
      "  *\n",
      "FROM\n",
      "  usuario\n",
      "LEFT JOIN\n",
      "  pessoa ON pessoa.id = usuario.id_pessoa\n",
      "\n"
     ]
    }
   ],
   "metadata": {}
  },
  {
   "cell_type": "code",
   "execution_count": null,
   "source": [
    "fn.create_command('python','if','''if({{condition}}):\r\n",
    "{{block}}''')"
   ],
   "outputs": [],
   "metadata": {}
  },
  {
   "cell_type": "code",
   "execution_count": null,
   "source": [
    "fn.create_command('programming', 'proprety','{{parent}}.{{child}}',['value'])\r\n"
   ],
   "outputs": [],
   "metadata": {}
  },
  {
   "cell_type": "code",
   "execution_count": null,
   "source": [
    "print(fn.build('sql','select from',{}))"
   ],
   "outputs": [],
   "metadata": {}
  },
  {
   "cell_type": "code",
   "execution_count": null,
   "source": [
    "cur = '''SELECT\r\n",
    "    {{fields}}\r\n",
    "FROM\r\n",
    "    {{table}}\r\n",
    "    {{junk}}'''\r\n",
    "\r\n",
    "temp = cur\r\n",
    "\r\n",
    "parameter = [\r\n",
    "    {'parameter':'{{fields}}','value':'''id,\r\n",
    "nome,\r\n",
    "idade'''},\r\n",
    "    {'parameter':'{{table}}','value':'pessoa'},\r\n",
    "    {'parameter':'{{junk}}','value':'aaa'}\r\n",
    "]\r\n",
    "cur_parameter = parameter.copy()\r\n",
    "j = 0\r\n",
    "spaces = 0\r\n",
    "start = 0\r\n",
    "diference = 0\r\n",
    "for i in range(len(cur)):\r\n",
    "    found = False\r\n",
    "    for k in cur_parameter:\r\n",
    "        if(j >= len(k['parameter'])-1):\r\n",
    "            value = k['value']\r\n",
    "            padding = ' ' * (spaces)\r\n",
    "            value = padding + value.replace('\\n','\\n'+padding)\r\n",
    "            temp = temp[0:start-spaces+1] + value + temp[i+1-diference:len(temp)]\r\n",
    "            diference += j + 2 - len(value)+spaces-1\r\n",
    "            found = True\r\n",
    "            break\r\n",
    "    if(not found):\r\n",
    "        cur_parameter = [k for k in cur_parameter if k['parameter'][j] == hay[i]]\r\n",
    "        j += 1\r\n",
    "    if(len(cur_parameter) == 0 or found):\r\n",
    "        if hay[i] == ' ':\r\n",
    "            spaces += 1\r\n",
    "        else:\r\n",
    "            spaces = 0\r\n",
    "        j = 0\r\n",
    "        start = i - diference\r\n",
    "        cur_parameter = parameter.copy()\r\n",
    "\r\n",
    "print (temp)"
   ],
   "outputs": [],
   "metadata": {}
  },
  {
   "cell_type": "code",
   "execution_count": null,
   "source": [],
   "outputs": [],
   "metadata": {}
  }
 ]
}