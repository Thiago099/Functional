{
 "metadata": {
  "language_info": {
   "codemirror_mode": {
    "name": "ipython",
    "version": 3
   },
   "file_extension": ".py",
   "mimetype": "text/x-python",
   "name": "python",
   "nbconvert_exporter": "python",
   "pygments_lexer": "ipython3",
   "version": "3.9.1"
  },
  "orig_nbformat": 4,
  "kernelspec": {
   "name": "python3",
   "display_name": "Python 3.9.1 64-bit"
  },
  "interpreter": {
   "hash": "ac59ebe37160ed0dfa835113d9b8498d9f09ceb179beaac4002f036b9467c963"
  }
 },
 "nbformat": 4,
 "nbformat_minor": 2,
 "cells": [
  {
   "cell_type": "code",
   "execution_count": null,
   "source": [
    "import sys\r\n",
    "# insert at 1, 0 is the script path (or '' in REPL)\r\n",
    "sys.path.insert(1, 'bin')\r\n",
    "\r\n",
    "from persistence import sql\r\n",
    "import functional as fn\r\n",
    "import color as c"
   ],
   "outputs": [],
   "metadata": {}
  },
  {
   "cell_type": "code",
   "execution_count": null,
   "source": [
    "fn.create_command('sql', 'left join')\r\n",
    "fn.set_child(('sql', 'left join'), ('sql', 'join'),{'type': 'LEFT'})"
   ],
   "outputs": [],
   "metadata": {}
  },
  {
   "cell_type": "code",
   "execution_count": null,
   "source": [
    "fn.create_command('sql', 'select from')\r\n",
    "fn.set_child(('sql', 'select from'), ('sql', 'select'))\r\n",
    "fn.set_child(('sql', 'select from'), ('sql', 'from'))\r\n"
   ],
   "outputs": [],
   "metadata": {}
  },
  {
   "cell_type": "code",
   "execution_count": null,
   "source": [
    "print(fn.build('sql', 'test'))"
   ],
   "outputs": [],
   "metadata": {}
  },
  {
   "cell_type": "code",
   "execution_count": null,
   "source": [
    "print(fn.build('sql', 'select from'))"
   ],
   "outputs": [],
   "metadata": {}
  },
  {
   "cell_type": "code",
   "execution_count": null,
   "source": [
    "db = sql('functional')\r\n",
    "\r\n",
    "for i in db.query('SELECT * FROM command'):\r\n",
    "    print(c.blue + i['class'] + ':' + i['name'])\r\n",
    "    print(c.white + fn.build(i['class'], i['name']))\r\n",
    "\r\n",
    "db.close()"
   ],
   "outputs": [],
   "metadata": {}
  },
  {
   "cell_type": "code",
   "execution_count": null,
   "source": [
    "print(fn.build('sql', 'select from', \r\n",
    "{\r\n",
    "    'field': '*',\r\n",
    "    'table': 'usuario'\r\n",
    "})+\r\n",
    "fn.build('sql','left join',{\r\n",
    "    'table': 'pessoa',\r\n",
    "    'identifier': 'id',\r\n",
    "    'subject': 'usuario',\r\n",
    "    'alias': 'id_pessoa'\r\n",
    "}))"
   ],
   "outputs": [],
   "metadata": {}
  }
 ]
}