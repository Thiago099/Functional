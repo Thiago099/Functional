{
 "metadata": {
  "language_info": {
   "codemirror_mode": {
    "name": "ipython",
    "version": 3
   },
   "file_extension": ".py",
   "mimetype": "text/x-python",
   "name": "python",
   "nbconvert_exporter": "python",
   "pygments_lexer": "ipython3",
   "version": "3.9.1"
  },
  "orig_nbformat": 4,
  "kernelspec": {
   "name": "python3",
   "display_name": "Python 3.9.1 64-bit"
  },
  "interpreter": {
   "hash": "ac59ebe37160ed0dfa835113d9b8498d9f09ceb179beaac4002f036b9467c963"
  }
 },
 "nbformat": 4,
 "nbformat_minor": 2,
 "cells": [
  {
   "cell_type": "code",
   "execution_count": 3,
   "source": [
    "from database import sql"
   ],
   "outputs": [],
   "metadata": {}
  },
  {
   "cell_type": "code",
   "execution_count": 19,
   "source": [
    "def execute(language, name, parameter = None):\r\n",
    "    db = sql('functional')\r\n",
    "    \r\n",
    "    base = db.query(f'''\r\n",
    "        SELECT\r\n",
    "            *\r\n",
    "        FROM\r\n",
    "            command\r\n",
    "        WHERE\r\n",
    "            language = '{language}'\r\n",
    "        AND\r\n",
    "            name = '{name}'\r\n",
    "    ''')[0]\r\n",
    "\r\n",
    "    def next(id_child):\r\n",
    "        child = db.query(f'''\r\n",
    "            SELECT\r\n",
    "                *\r\n",
    "            FROM\r\n",
    "                sub_command\r\n",
    "            WHERE\r\n",
    "                parent = {id_child}\r\n",
    "        ''')\r\n",
    "        \r\n",
    "        ret = ''\r\n",
    "        for i in child:\r\n",
    "\r\n",
    "            child = i['child']\r\n",
    "            id = i['id']\r\n",
    "\r\n",
    "            data = db.query(f'''\r\n",
    "                SELECT\r\n",
    "                    *\r\n",
    "                FROM\r\n",
    "                    command\r\n",
    "                WHERE\r\n",
    "                    id = {child}\r\n",
    "            ''')[0]\r\n",
    "\r\n",
    "            cur = data['value'] + next(child)\r\n",
    "\r\n",
    "            \r\n",
    "            parameter = db.query(f'''\r\n",
    "                SELECT\r\n",
    "                    *\r\n",
    "                FROM\r\n",
    "                    sub_command_parameter\r\n",
    "                WHERE\r\n",
    "                    sub_command = {id}\r\n",
    "            ''')\r\n",
    "\r\n",
    "            for i in parameter:\r\n",
    "                command = i['command']\r\n",
    "                if(command):\r\n",
    "                    base = db.query(f'''\r\n",
    "                        SELECT\r\n",
    "                            *\r\n",
    "                        FROM\r\n",
    "                            command\r\n",
    "                        WHERE\r\n",
    "                            id = {command}\r\n",
    "                        ''')[0]\r\n",
    "                    cur = cur.replace('{{'+i['parameter']+'}}', base['value'] + next(command))\r\n",
    "                else:\r\n",
    "                    cur = cur.replace('{{'+i['parameter']+'}}', i['value'])\r\n",
    "\r\n",
    "            ret += cur + '\\n'\r\n",
    "        return ret\r\n",
    "    \r\n",
    "    ret = next(base['id'])\r\n",
    "    if(parameter):\r\n",
    "        for i in parameter:\r\n",
    "            ret = ret.replace('{{'+i+'}}', parameter[i])\r\n",
    "    db.close()\r\n",
    "    return ret"
   ],
   "outputs": [],
   "metadata": {}
  },
  {
   "cell_type": "code",
   "execution_count": 20,
   "source": [
    "print(execute('sql','select',{'field':'0'}))"
   ],
   "outputs": [
    {
     "output_type": "stream",
     "name": "stdout",
     "text": [
      "\n"
     ]
    }
   ],
   "metadata": {}
  },
  {
   "cell_type": "code",
   "execution_count": 22,
   "source": [
    "print(execute('sql','test'))"
   ],
   "outputs": [
    {
     "output_type": "stream",
     "name": "stdout",
     "text": [
      "SELECT\n",
      "    id, CREATE TABLE \n",
      "    {{name}}\n",
      "(\n",
      "{field}\n",
      ")\n",
      "FROM\n",
      "    command\n",
      "\n",
      "\n"
     ]
    }
   ],
   "metadata": {}
  }
 ]
}