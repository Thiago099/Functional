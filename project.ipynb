{
 "metadata": {
  "language_info": {
   "codemirror_mode": {
    "name": "ipython",
    "version": 3
   },
   "file_extension": ".py",
   "mimetype": "text/x-python",
   "name": "python",
   "nbconvert_exporter": "python",
   "pygments_lexer": "ipython3",
   "version": "3.9.1"
  },
  "orig_nbformat": 4,
  "kernelspec": {
   "name": "python3",
   "display_name": "Python 3.9.1 64-bit"
  },
  "interpreter": {
   "hash": "ac59ebe37160ed0dfa835113d9b8498d9f09ceb179beaac4002f036b9467c963"
  }
 },
 "nbformat": 4,
 "nbformat_minor": 2,
 "cells": [
  {
   "cell_type": "code",
   "execution_count": 1,
   "source": [
    "import sys\r\n",
    "# insert at 1, 0 is the script path (or '' in REPL)\r\n",
    "sys.path.insert(1, 'bin')\r\n",
    "\r\n",
    "from persistence import sql\r\n",
    "import functional as fn\r\n",
    "import color as c\r\n",
    "\r\n",
    "print(fn.build('myapp sql','insert person'))\r\n"
   ],
   "outputs": [
    {
     "output_type": "stream",
     "name": "stdout",
     "text": [
      "if({{0}}):\n",
      "  SELECT\n",
      "    {{1}}\n",
      "FROM\n",
      "    {{2}}\n",
      "\n",
      "\n"
     ]
    }
   ],
   "metadata": {}
  },
  {
   "cell_type": "code",
   "execution_count": null,
   "source": [
    "fn.create_command('sql', 'left join')\r\n",
    "fn.set_child(('sql', 'left join'), ('sql', 'join'),{'type': 'LEFT'})"
   ],
   "outputs": [],
   "metadata": {}
  },
  {
   "cell_type": "code",
   "execution_count": null,
   "source": [
    "fn.create_command('myapp', 'conditional query')\r\n",
    "fn.create_command('myapp', 'conditional query')\r\n",
    "fn.set_child(('myapp', 'conditional query'), ('python', 'if'),{'condition':'true','block':('sql','select from')})\r\n"
   ],
   "outputs": [],
   "metadata": {}
  },
  {
   "cell_type": "code",
   "execution_count": 3,
   "source": [
    "fn.create_command('myapp', 'conditional query')\r\n",
    "fn.set_child(('myapp', 'conditional query'),('python','if'),{'block':('sql','select from')})"
   ],
   "outputs": [],
   "metadata": {}
  },
  {
   "cell_type": "code",
   "execution_count": 4,
   "source": [
    "print(fn.build('myapp', 'conditional query'))"
   ],
   "outputs": [
    {
     "output_type": "stream",
     "name": "stdout",
     "text": [
      "if({{condition}}):\n",
      "  SELECT\n",
      "    {{field}}\n",
      "FROM\n",
      "    {{table}}\n",
      "\n",
      "\n"
     ]
    }
   ],
   "metadata": {}
  },
  {
   "cell_type": "code",
   "execution_count": null,
   "source": [
    "db = sql('functional')\r\n",
    "\r\n",
    "for i in db.query('SELECT * FROM command'):\r\n",
    "    print(c.blue + i['class'] + ':' + i['name'])\r\n",
    "    print(c.white + fn.build(i['class'], i['name']))\r\n",
    "\r\n",
    "db.close()"
   ],
   "outputs": [],
   "metadata": {}
  },
  {
   "cell_type": "code",
   "execution_count": 20,
   "source": [
    "print(fn.build('sql', 'select from', \r\n",
    "{\r\n",
    "    'field': '*',\r\n",
    "    'table': 'usuario'\r\n",
    "})+\r\n",
    "fn.build('sql','left join',{\r\n",
    "    'table': 'pessoa',\r\n",
    "    'identifier': 'id',\r\n",
    "    'subject': 'usuario',\r\n",
    "    'alias': 'id_pessoa'\r\n",
    "}))"
   ],
   "outputs": [
    {
     "output_type": "stream",
     "name": "stdout",
     "text": [
      "SELECT\n",
      "    *\n",
      "FROM\n",
      "    usuario\n",
      "LEFT JOIN\n",
      "    {{1}} ON {{1}}.{{3}} = {{2}}.{{0}}\n",
      "\n"
     ]
    }
   ],
   "metadata": {}
  },
  {
   "cell_type": "code",
   "execution_count": 5,
   "source": [
    "fn.create_command('python','if','''if({{condition}}):\r\n",
    "{{block}}''')"
   ],
   "outputs": [],
   "metadata": {}
  },
  {
   "cell_type": "code",
   "execution_count": 2,
   "source": [
    "# fn.create_command('myapp sql', 'insert person')\r\n",
    "fn.set_child(('myapp sql', 'insert person'),('sql','select from'),{'field':'id,\\n,nome,\\n,cpf', 'table':'person'})"
   ],
   "outputs": [],
   "metadata": {}
  },
  {
   "cell_type": "code",
   "execution_count": 3,
   "source": [
    "print(fn.build('sql','select from',{}))"
   ],
   "outputs": [
    {
     "output_type": "stream",
     "name": "stdout",
     "text": [
      "SELECT\n",
      "    {{field}}\n",
      "FROM\n",
      "    {{table}}\n",
      "\n"
     ]
    }
   ],
   "metadata": {}
  }
 ]
}