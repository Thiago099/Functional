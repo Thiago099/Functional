{
 "cells": [
  {
   "cell_type": "code",
   "execution_count": 1,
   "source": [
    "import sys\r\n",
    "sys.path.insert(1, 'bin')\r\n",
    "sys.path.insert(1, 'functional')\r\n",
    "\r\n",
    "from persistence import sql\r\n",
    "import functional as fn\r\n",
    "import color as c\r\n",
    "from sql import table\r\n",
    "import vector as vc\r\n"
   ],
   "outputs": [],
   "metadata": {}
  },
  {
   "cell_type": "code",
   "execution_count": 3,
   "source": [
    "\r\n",
    "\r\n",
    "def block(params):\r\n",
    "    return fn.build('programming','decorated block', params)\r\n",
    "\r\n",
    "\r\n",
    "def classe(using, namespace, name, menbers):\r\n",
    "    code = fn.cat(['\\n']+[f'using {i};' for i in st.listfy(using)]) + '\\n\\n'\r\n",
    "    code += block(\r\n",
    "    [\r\n",
    "        [' ', 'namespace', namespace],\r\n",
    "        ['\\n', \r\n",
    "            block(\r\n",
    "            [\r\n",
    "                [' ', 'class', name],\r\n",
    "                ['\\n'] + vc.listfy(menbers)\r\n",
    "            ])\r\n",
    "        ]\r\n",
    "    ])\r\n",
    "    return code\r\n",
    "\r\n",
    "def entrypoint(code):\r\n",
    "    return block(\r\n",
    "    [\r\n",
    "        [' ', 'public', 'static', 'void', 'Main(string[] args)'],\r\n",
    "        ['\\n'] + vc.listfy(code) \r\n",
    "    ])\r\n",
    "\r\n",
    "print(classe('System','ConsoleApp','Program', entrypoint('Console.WriteLine(\"Hello World!\");')))"
   ],
   "outputs": [
    {
     "output_type": "error",
     "ename": "AttributeError",
     "evalue": "module 'string' has no attribute 'listfy'",
     "traceback": [
      "\u001b[1;31m---------------------------------------------------------------------------\u001b[0m",
      "\u001b[1;31mAttributeError\u001b[0m                            Traceback (most recent call last)",
      "\u001b[1;32m<ipython-input-3-2040eee75360>\u001b[0m in \u001b[0;36m<module>\u001b[1;34m\u001b[0m\n\u001b[0;32m     25\u001b[0m     ])\n\u001b[0;32m     26\u001b[0m \u001b[1;33m\u001b[0m\u001b[0m\n\u001b[1;32m---> 27\u001b[1;33m \u001b[0mprint\u001b[0m\u001b[1;33m(\u001b[0m\u001b[0mclasse\u001b[0m\u001b[1;33m(\u001b[0m\u001b[1;34m'System'\u001b[0m\u001b[1;33m,\u001b[0m\u001b[1;34m'ConsoleApp'\u001b[0m\u001b[1;33m,\u001b[0m\u001b[1;34m'Program'\u001b[0m\u001b[1;33m,\u001b[0m \u001b[0mentrypoint\u001b[0m\u001b[1;33m(\u001b[0m\u001b[1;34m'Console.WriteLine(\"Hello World!\");'\u001b[0m\u001b[1;33m)\u001b[0m\u001b[1;33m)\u001b[0m\u001b[1;33m)\u001b[0m\u001b[1;33m\u001b[0m\u001b[1;33m\u001b[0m\u001b[0m\n\u001b[0m",
      "\u001b[1;32m<ipython-input-3-2040eee75360>\u001b[0m in \u001b[0;36mentrypoint\u001b[1;34m(code)\u001b[0m\n\u001b[0;32m     22\u001b[0m     [\n\u001b[0;32m     23\u001b[0m         \u001b[1;33m[\u001b[0m\u001b[1;34m' '\u001b[0m\u001b[1;33m,\u001b[0m \u001b[1;34m'public'\u001b[0m\u001b[1;33m,\u001b[0m \u001b[1;34m'static'\u001b[0m\u001b[1;33m,\u001b[0m \u001b[1;34m'void'\u001b[0m\u001b[1;33m,\u001b[0m \u001b[1;34m'Main(string[] args)'\u001b[0m\u001b[1;33m]\u001b[0m\u001b[1;33m,\u001b[0m\u001b[1;33m\u001b[0m\u001b[1;33m\u001b[0m\u001b[0m\n\u001b[1;32m---> 24\u001b[1;33m         \u001b[1;33m[\u001b[0m\u001b[1;34m'\\n'\u001b[0m\u001b[1;33m]\u001b[0m \u001b[1;33m+\u001b[0m \u001b[0mst\u001b[0m\u001b[1;33m.\u001b[0m\u001b[0mlistfy\u001b[0m\u001b[1;33m(\u001b[0m\u001b[0mcode\u001b[0m\u001b[1;33m)\u001b[0m\u001b[1;33m\u001b[0m\u001b[1;33m\u001b[0m\u001b[0m\n\u001b[0m\u001b[0;32m     25\u001b[0m     ])\n\u001b[0;32m     26\u001b[0m \u001b[1;33m\u001b[0m\u001b[0m\n",
      "\u001b[1;31mAttributeError\u001b[0m: module 'string' has no attribute 'listfy'"
     ]
    }
   ],
   "metadata": {}
  }
 ],
 "metadata": {
  "orig_nbformat": 4,
  "language_info": {
   "name": "python",
   "version": "3.9.1",
   "mimetype": "text/x-python",
   "codemirror_mode": {
    "name": "ipython",
    "version": 3
   },
   "pygments_lexer": "ipython3",
   "nbconvert_exporter": "python",
   "file_extension": ".py"
  },
  "kernelspec": {
   "name": "python3",
   "display_name": "Python 3.9.1 64-bit"
  },
  "interpreter": {
   "hash": "ac59ebe37160ed0dfa835113d9b8498d9f09ceb179beaac4002f036b9467c963"
  }
 },
 "nbformat": 4,
 "nbformat_minor": 2
}