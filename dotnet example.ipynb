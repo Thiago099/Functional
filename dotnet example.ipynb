{
 "cells": [
  {
   "cell_type": "code",
   "execution_count": 1,
   "source": [
    "import sys\r\n",
    "sys.path.insert(1, 'bin')\r\n",
    "sys.path.insert(1, 'functional')\r\n",
    "\r\n",
    "from persistence import sql\r\n",
    "import functional as fn\r\n",
    "import color as c\r\n",
    "from sql import table\r\n",
    "import vector as vc\r\n"
   ],
   "outputs": [],
   "metadata": {}
  },
  {
   "cell_type": "code",
   "execution_count": 2,
   "source": [
    "def block(name, block):\r\n",
    "    return fn.build('programming','decorated block', [name, block])\r\n",
    "\r\n",
    "def return_block(name, block):\r\n",
    "    return fn.build('dotnet','return block', [name, block])\r\n",
    "\r\n",
    "\r\n",
    "def ctor(name, parameters = '', block = ''):\r\n",
    "    return fn.build('programming', 'function definition', [name, parameters, block])\r\n",
    "\r\n",
    "def named_block(tipo, name, members):\r\n",
    "    return block(\r\n",
    "        [' ', tipo, name],\r\n",
    "        members,\r\n",
    "    )\r\n",
    "\r\n",
    "def classe(name, members):\r\n",
    "    return named_block('class', name, ['\\n\\n'] + vc.listfy(members))\r\n",
    "\r\n",
    "def namespace(name, members):\r\n",
    "    return named_block('namespace', name, members)\r\n",
    "        \r\n",
    "    \r\n",
    "\r\n",
    "def code(using, space, name, members):\r\n",
    "    return vc.cat(['\\n']+[f'using {i};' for i in vc.listfy(using)]) + ('\\n\\n' if len(using) > 0 else '') + namespace(space, classe(name, members))\r\n",
    "\r\n",
    "def entrypoint(code):\r\n",
    "    return block(\r\n",
    "        [' ', 'public', 'static', 'void', 'Main(string[] args)'],\r\n",
    "        ['\\n'] + vc.listfy(code) \r\n",
    "    )\r\n",
    "\r\n",
    "print(code('System', 'ConsoleApp', 'Program', entrypoint('Console.WriteLine(\"Hello World!\");')))"
   ],
   "outputs": [
    {
     "output_type": "stream",
     "name": "stdout",
     "text": [
      "using System;\n",
      "\n",
      "namespace ConsoleApp\n",
      "{\n",
      "    class Program\n",
      "    {\n",
      "        public static void Main(string[] args)\n",
      "        {\n",
      "            Console.WriteLine(\"Hello World!\");\n",
      "        }\n",
      "    }\n",
      "}\n"
     ]
    }
   ],
   "metadata": {}
  }
 ],
 "metadata": {
  "orig_nbformat": 4,
  "language_info": {
   "name": "python",
   "version": "3.9.1",
   "mimetype": "text/x-python",
   "codemirror_mode": {
    "name": "ipython",
    "version": 3
   },
   "pygments_lexer": "ipython3",
   "nbconvert_exporter": "python",
   "file_extension": ".py"
  },
  "kernelspec": {
   "name": "python3",
   "display_name": "Python 3.9.1 64-bit"
  },
  "interpreter": {
   "hash": "ac59ebe37160ed0dfa835113d9b8498d9f09ceb179beaac4002f036b9467c963"
  }
 },
 "nbformat": 4,
 "nbformat_minor": 2
}