{
 "cells": [
  {
   "cell_type": "code",
   "execution_count": 1,
   "source": [
    "import sys\r\n",
    "sys.path.insert(1, 'bin')\r\n",
    "sys.path.insert(1, 'functional')\r\n",
    "\r\n",
    "from persistence import sql\r\n",
    "import functional as fn\r\n",
    "import color as c\r\n",
    "from sql import table"
   ],
   "outputs": [],
   "metadata": {}
  },
  {
   "cell_type": "code",
   "execution_count": 25,
   "source": [
    "def dec(params):\r\n",
    "    return fn.build('programming','decorated block', params)\r\n",
    "print(fn.build('main', 'pointer', [['\\n','using System;']]))\r\n",
    "print()\r\n",
    "print(\r\n",
    "    dec(\r\n",
    "    [\r\n",
    "        'namespace ConsoleApp',\r\n",
    "        dec(\r\n",
    "            [\r\n",
    "                'class Program',\r\n",
    "                dec(\r\n",
    "                [\r\n",
    "                    [' ', 'public', 'static', 'void', 'Main(string[] args)'],\r\n",
    "                    ['\\n', 'Console.WriteLine(\"Hello World!\");']\r\n",
    "                ])\r\n",
    "            ])\r\n",
    "    ])\r\n",
    ")"
   ],
   "outputs": [
    {
     "output_type": "stream",
     "name": "stdout",
     "text": [
      "using System;\n",
      "\n",
      "namespace ConsoleApp\n",
      "{\n",
      "    class Program\n",
      "    {\n",
      "        public static void Main(string[] args)\n",
      "        {\n",
      "            Console.WriteLine(\"Hello World!\");\n",
      "        }\n",
      "    }\n",
      "}\n"
     ]
    }
   ],
   "metadata": {}
  }
 ],
 "metadata": {
  "orig_nbformat": 4,
  "language_info": {
   "name": "python",
   "version": "3.9.1",
   "mimetype": "text/x-python",
   "codemirror_mode": {
    "name": "ipython",
    "version": 3
   },
   "pygments_lexer": "ipython3",
   "nbconvert_exporter": "python",
   "file_extension": ".py"
  },
  "kernelspec": {
   "name": "python3",
   "display_name": "Python 3.9.1 64-bit"
  },
  "interpreter": {
   "hash": "ac59ebe37160ed0dfa835113d9b8498d9f09ceb179beaac4002f036b9467c963"
  }
 },
 "nbformat": 4,
 "nbformat_minor": 2
}