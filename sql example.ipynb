{
 "cells": [
  {
   "cell_type": "code",
   "execution_count": 1,
   "source": [
    "import sys\r\n",
    "sys.path.insert(1, 'bin')\r\n",
    "sys.path.insert(1, 'functional')\r\n",
    "\r\n",
    "from persistence import sql\r\n",
    "import functional as fn\r\n",
    "import color as c\r\n",
    "from sql import table"
   ],
   "outputs": [],
   "metadata": {}
  },
  {
   "cell_type": "code",
   "execution_count": 2,
   "source": [
    "pessoa = table(\r\n",
    "    'pessoa',\r\n",
    "{\r\n",
    "    'nome': 'VARCHAR(32)',\r\n",
    "    'sexo': 'CHAR(1)',\r\n",
    "    'idade': 'INT'\r\n",
    "})\r\n",
    "\r\n",
    "print(pessoa.create)\r\n",
    "print(pessoa.drop)\r\n",
    "print(pessoa.insert)\r\n",
    "print(pessoa.select)\r\n",
    "print(pessoa.update)\r\n",
    "print(pessoa.delete)"
   ],
   "outputs": [
    {
     "output_type": "stream",
     "name": "stdout",
     "text": [
      "CREATE TABLE \n",
      "  pessoa\n",
      "(\n",
      "  id INT NOT NULL AUTO_INCREMENT,\n",
      "  nome VARCHAR(32),\n",
      "  sexo CHAR(1),\n",
      "  idade INT,\n",
      "  PRIMARY KEY (id)\n",
      ");\n",
      "DROP TABLE pessoa;\n",
      "INSERT INTO\n",
      "  pessoa \n",
      "(\n",
      "  nome,\n",
      "  sexo,\n",
      "  idade\n",
      ")\n",
      "VALUES\n",
      "(\n",
      "  @Nome,\n",
      "  @Sexo,\n",
      "  @Idade\n",
      ");\n",
      "SELECT\n",
      "  id,\n",
      "  nome,\n",
      "  sexo,\n",
      "  idade\n",
      "FROM\n",
      "  pessoa;\n",
      "UPDATE\n",
      "  pessoa\n",
      "SET\n",
      " nome = @Nome,\n",
      " sexo = @Sexo,\n",
      " idade = @Idade\n",
      "WHERE\n",
      "  id = @Id;\n",
      "DELETE FROM\n",
      "  pessoa\n",
      "WHERE\n",
      "  id = @Id;\n"
     ]
    }
   ],
   "metadata": {}
  }
 ],
 "metadata": {
  "orig_nbformat": 4,
  "language_info": {
   "name": "python",
   "version": "3.9.1",
   "mimetype": "text/x-python",
   "codemirror_mode": {
    "name": "ipython",
    "version": 3
   },
   "pygments_lexer": "ipython3",
   "nbconvert_exporter": "python",
   "file_extension": ".py"
  },
  "kernelspec": {
   "name": "python3",
   "display_name": "Python 3.9.1 64-bit"
  },
  "interpreter": {
   "hash": "ac59ebe37160ed0dfa835113d9b8498d9f09ceb179beaac4002f036b9467c963"
  }
 },
 "nbformat": 4,
 "nbformat_minor": 2
}